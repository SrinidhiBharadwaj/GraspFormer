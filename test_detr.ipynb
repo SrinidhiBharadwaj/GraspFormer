{
 "cells": [
  {
   "cell_type": "code",
   "execution_count": 1,
   "metadata": {},
   "outputs": [],
   "source": [
    "import torch\n",
    "from torchvision import datasets\n",
    "import torchvision.transforms as transforms\n",
    "import numpy as np\n",
    "import os\n",
    "from model import detr_simplified, DETR, DETRModel\n",
    "from cornell_dataset import CornellDataset\n",
    "from view_bbox import draw_bbox"
   ]
  },
  {
   "cell_type": "code",
   "execution_count": 2,
   "metadata": {},
   "outputs": [
    {
     "name": "stderr",
     "output_type": "stream",
     "text": [
      "Using cache found in /home/sbhara/.cache/torch/hub/facebookresearch_detr_main\n"
     ]
    }
   ],
   "source": [
    "model = DETRModel(num_classes=20, num_queries=8)\n",
    "loaded_model = torch.load(\"overfit-third/model_299.ckpt\")\n",
    "\n",
    "model.load_state_dict(loaded_model[\"model\"])\n",
    "model.eval()\n",
    "m = 0"
   ]
  },
  {
   "cell_type": "code",
   "execution_count": 3,
   "metadata": {},
   "outputs": [],
   "source": [
    "from torch.utils.data import DataLoader \n",
    "dataset_path = \"dataset/cornell\"\n",
    "img_set = \"train\"\n",
    "normalize = transforms.Normalize(mean=[0.485, 0.456, 0.406],\n",
    "                                        std=[0.229, 0.224, 0.225])\n",
    "inv_normalize = transforms.Normalize(\n",
    "                            mean=[-0.485/0.229, -0.456/0.224, -0.406/0.225],\n",
    "                            std=[1/0.229, 1/0.224, 1/0.225])\n",
    "train_dataset = CornellDataset(dataset_path, \"train\", normalize)\n",
    "val_dataset = CornellDataset(dataset_path, \"val\", normalize)\n",
    "\n",
    "val_loader = DataLoader(val_dataset, batch_size=1, shuffle=True)\n",
    "train_loader = DataLoader(train_dataset, batch_size=1, shuffle=True)\n",
    "# for output bounding box post-processing\n",
    "def box_cxcywh_to_xyxy(x):\n",
    "    x_c, y_c, w, h = x.unbind(1)\n",
    "    b = [(x_c - 0.5 * w), (y_c - 0.5 * h),\n",
    "         (x_c + 0.5 * w), (y_c + 0.5 * h)]\n",
    "    return torch.stack(b, dim=1)\n",
    "\n",
    "def rescale_bboxes(out_bbox, size):\n",
    "    img_w, img_h = size\n",
    "    b = box_cxcywh_to_xyxy(out_bbox).to(\"cpu\")\n",
    "    b = b * torch.tensor([img_w, img_h, img_w, img_h], dtype=torch.float32)\n",
    "    return b"
   ]
  },
  {
   "cell_type": "code",
   "execution_count": 4,
   "metadata": {},
   "outputs": [],
   "source": [
    "def iou(box1,box2):\n",
    "  '''\n",
    "    Computes the intersection over union of two bounding boxes box = [x1,y1,x2,y2]\n",
    "    where (x1, y1) and (x2, y2) are the top left and bottom right coordinates respectively\n",
    "  '''\n",
    "  x1, y1 = max(box1[0], box2[0]), max(box1[1], box2[1])\n",
    "  x2, y2 = min(box1[2], box2[2]), min(box1[3], box2[3])\n",
    "  inter_area = max(0, (x2 - x1 + 1)) * max(0, (y2 - y1 + 1))\n",
    "  union_area = (box1[2] - box1[0] + 1) * (box1[3] - box1[1] + 1) + (box2[2] - box2[0] + 1) * (box2[3] - box2[1] + 1) - inter_area\n",
    "  return inter_area/union_area"
   ]
  },
  {
   "cell_type": "code",
   "execution_count": 5,
   "metadata": {},
   "outputs": [
    {
     "name": "stderr",
     "output_type": "stream",
     "text": [
      "/home/sbhara/.cache/torch/hub/facebookresearch_detr_main/models/position_encoding.py:41: UserWarning: __floordiv__ is deprecated, and its behavior will change in a future version of pytorch. It currently rounds toward 0 (like the 'trunc' function NOT 'floor'). This results in incorrect rounding for negative values. To keep the current behavior, use torch.div(a, b, rounding_mode='trunc'), or for actual floor division, use torch.div(a, b, rounding_mode='floor').\n",
      "  dim_t = self.temperature ** (2 * (dim_t // 2) / self.num_pos_feats)\n"
     ]
    },
    {
     "ename": "TypeError",
     "evalue": "draw_rotated_box() got an unexpected keyword argument 'fig'",
     "output_type": "error",
     "traceback": [
      "\u001b[0;31m---------------------------------------------------------------------------\u001b[0m",
      "\u001b[0;31mTypeError\u001b[0m                                 Traceback (most recent call last)",
      "\u001b[1;32m/home/sbhara/Desktop/graspnet/GraspFormer/test_detr.ipynb Cell 5'\u001b[0m in \u001b[0;36m<cell line: 5>\u001b[0;34m()\u001b[0m\n\u001b[1;32m     <a href='vscode-notebook-cell://ssh-remote%2Bavlw-001.ucsd.edu/home/sbhara/Desktop/graspnet/GraspFormer/test_detr.ipynb#ch0000004vscode-remote?line=19'>20</a>\u001b[0m x_val \u001b[39m=\u001b[39m inv_normalize(x_val)\n\u001b[1;32m     <a href='vscode-notebook-cell://ssh-remote%2Bavlw-001.ucsd.edu/home/sbhara/Desktop/graspnet/GraspFormer/test_detr.ipynb#ch0000004vscode-remote?line=21'>22</a>\u001b[0m draw_func \u001b[39m=\u001b[39m draw_bbox(bbox_pred\u001b[39m.\u001b[39msqueeze(\u001b[39m0\u001b[39m)\u001b[39m.\u001b[39mdetach()\u001b[39m.\u001b[39mcpu()\u001b[39m.\u001b[39mnumpy(), pred_class)\n\u001b[0;32m---> <a href='vscode-notebook-cell://ssh-remote%2Bavlw-001.ucsd.edu/home/sbhara/Desktop/graspnet/GraspFormer/test_detr.ipynb#ch0000004vscode-remote?line=22'>23</a>\u001b[0m draw_func\u001b[39m.\u001b[39;49mdraw_rotated_box(x_val[\u001b[39m0\u001b[39;49m]\u001b[39m.\u001b[39;49mpermute(\u001b[39m1\u001b[39;49m, \u001b[39m2\u001b[39;49m, \u001b[39m0\u001b[39;49m)\u001b[39m.\u001b[39;49mcpu()\u001b[39m.\u001b[39;49mnumpy(), fig\u001b[39m=\u001b[39;49mi)\n\u001b[1;32m     <a href='vscode-notebook-cell://ssh-remote%2Bavlw-001.ucsd.edu/home/sbhara/Desktop/graspnet/GraspFormer/test_detr.ipynb#ch0000004vscode-remote?line=23'>24</a>\u001b[0m iou_calc \u001b[39m=\u001b[39m iou(y_val[\u001b[39m1\u001b[39m]\u001b[39m.\u001b[39msqueeze(\u001b[39m0\u001b[39m)\u001b[39m.\u001b[39mdetach()\u001b[39m.\u001b[39mcpu()\u001b[39m.\u001b[39mnumpy()\u001b[39m*\u001b[39m\u001b[39m224\u001b[39m, bbox_pred\u001b[39m.\u001b[39msqueeze(\u001b[39m0\u001b[39m)\u001b[39m.\u001b[39mdetach()\u001b[39m.\u001b[39mcpu()\u001b[39m.\u001b[39mnumpy())\n\u001b[1;32m     <a href='vscode-notebook-cell://ssh-remote%2Bavlw-001.ucsd.edu/home/sbhara/Desktop/graspnet/GraspFormer/test_detr.ipynb#ch0000004vscode-remote?line=24'>25</a>\u001b[0m final_iou \u001b[39m+\u001b[39m\u001b[39m=\u001b[39m iou_calc\n",
      "\u001b[0;31mTypeError\u001b[0m: draw_rotated_box() got an unexpected keyword argument 'fig'"
     ]
    }
   ],
   "source": [
    "device = \"cuda\" if torch.cuda.is_available() else \"cpu\"\n",
    "model.to(device)\n",
    "final_iou = 0\n",
    "correct_pred = 0\n",
    "for i, (x_val, y_val) in enumerate(train_loader):\n",
    "    x_val = x_val.to(device)\n",
    "    box = y_val\n",
    "    output = model(x_val)\n",
    "    bbox = output[\"pred_boxes\"]\n",
    "    labels = output[\"pred_logits\"]\n",
    "\n",
    "    probas = labels.softmax(-1)\n",
    "    #print( bbox * 224)\n",
    "    probas = torch.argmax(probas, dim=2, keepdim=True)\n",
    "    idx = torch.argmax(probas)\n",
    "\n",
    "    pred_class = probas[:, idx].squeeze().cpu().numpy()\n",
    "    bbox_pred = bbox[:, idx].detach().cpu() * 224\n",
    "\n",
    "    x_val = inv_normalize(x_val)\n",
    "\n",
    "    draw_func = draw_bbox(bbox_pred.squeeze(0).detach().cpu().numpy(), pred_class)\n",
    "    draw_func.draw_rotated_box(x_val[0].permute(1, 2, 0).cpu().numpy(), fig_num=i)\n",
    "    iou_calc = iou(y_val[1].squeeze(0).detach().cpu().numpy()*224, bbox_pred.squeeze(0).detach().cpu().numpy())\n",
    "    final_iou += iou_calc\n",
    "    if pred_class == y_val[0].numpy():\n",
    "        correct_pred += 1\n",
    "\n",
    "    print(f\"IOU: {iou_calc}, GT: {y_val[0]}, {y_val[1]*224} Class: {pred_class}, bboxes: {bbox_pred}\")\n",
    "    i+=1\n",
    "    if i == 10:\n",
    "        print(f\"Mean IoU: {final_iou/i * 100}, accuracy: {correct_pred/i * 100}\")\n",
    "        break\n",
    "    "
   ]
  },
  {
   "cell_type": "code",
   "execution_count": null,
   "metadata": {},
   "outputs": [],
   "source": []
  },
  {
   "cell_type": "code",
   "execution_count": null,
   "metadata": {},
   "outputs": [],
   "source": []
  }
 ],
 "metadata": {
  "interpreter": {
   "hash": "9fd868aea35db86bfaffcbbdb640d100800ee4083ecfcf73f5495ae04bc7d7ad"
  },
  "kernelspec": {
   "display_name": "Python 3.9.12 ('graspnet')",
   "language": "python",
   "name": "python3"
  },
  "language_info": {
   "codemirror_mode": {
    "name": "ipython",
    "version": 3
   },
   "file_extension": ".py",
   "mimetype": "text/x-python",
   "name": "python",
   "nbconvert_exporter": "python",
   "pygments_lexer": "ipython3",
   "version": "3.9.12"
  },
  "orig_nbformat": 4
 },
 "nbformat": 4,
 "nbformat_minor": 2
}
